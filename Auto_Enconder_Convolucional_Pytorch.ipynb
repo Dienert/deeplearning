{
  "cells": [
    {
      "cell_type": "markdown",
      "metadata": {
        "id": "IzO5Zko7ivDZ"
      },
      "source": [
        "# Instruções Gerais\n",
        "\n",
        "*   A atividade é **individual**. Cópias e plágios não serão tolerados\n",
        "*   Data de entrega: **23/02/2022, até as 09:30h**\n",
        "\n",
        "  * Apenas pelo **Classroom**\n",
        "  * Façam uma cópia do notebook, e trabalhem nela para a entrega até o prazo definido\n",
        "  * **Atentem para todos os pontos de `# TODO:`**, pois estes são os pontos de implementação\n",
        "\n"
      ]
    },
    {
      "cell_type": "markdown",
      "metadata": {
        "id": "W8RhQDeTckWv"
      },
      "source": [
        "# Parte 1"
      ]
    },
    {
      "cell_type": "markdown",
      "metadata": {
        "id": "cd-2yGG5crfX"
      },
      "source": [
        "Utilizando o conjunto de dados [`digits`](https://scikit-learn.org/stable/modules/generated/sklearn.datasets.load_digits.html) e a implementação do [K-Means](https://scikit-learn.org/stable/modules/generated/sklearn.cluster.KMeans.html) disponível na biblioteca [`scikit-learn`](https://scikit-learn.org/stable/index.html), avalie se o algoritmo tem melhor desempenho com o dados originais, ou com os dados em menor dimensão (8) após transformação via PCA. Utilizem alguma [`métrica de clustering`](https://scikit-learn.org/stable/modules/model_evaluation.html), também disponíveis no `scikit-lean`, como ARI, NMI e/ou Pureza."
      ]
    },
    {
      "cell_type": "code",
      "execution_count": 1,
      "metadata": {
        "colab": {
          "base_uri": "https://localhost:8080/"
        },
        "id": "VtJ7r9Ypcr8t",
        "outputId": "d9aef86f-9573-4f43-b72b-681a667a92d1"
      },
      "outputs": [
        {
          "output_type": "stream",
          "name": "stdout",
          "text": [
            "(1797, 64)\n"
          ]
        }
      ],
      "source": [
        "from sklearn.datasets import load_digits\n",
        "digits = load_digits()\n",
        "print(digits.data.shape)\n",
        "\n",
        "import matplotlib.pyplot as plt"
      ]
    },
    {
      "cell_type": "code",
      "execution_count": 2,
      "metadata": {
        "id": "rNtS7YgiNsmn"
      },
      "outputs": [],
      "source": [
        "def exibe_digito(dado):\n",
        "    plt.imshow(dado, cmap=plt.get_cmap('gray_r'))\n"
      ]
    },
    {
      "cell_type": "markdown",
      "metadata": {
        "id": "BcRN5jDaNsmq"
      },
      "source": [
        "Explorando o dataset"
      ]
    },
    {
      "cell_type": "code",
      "execution_count": 3,
      "metadata": {
        "id": "g8Tgr4AcNsms",
        "outputId": "efd7402c-ae98-4b63-d50a-17fc1b2ce104",
        "colab": {
          "base_uri": "https://localhost:8080/"
        }
      },
      "outputs": [
        {
          "output_type": "execute_result",
          "data": {
            "text/plain": [
              "dict_keys(['data', 'target', 'frame', 'feature_names', 'target_names', 'images', 'DESCR'])"
            ]
          },
          "metadata": {},
          "execution_count": 3
        }
      ],
      "source": [
        "digits.keys()"
      ]
    },
    {
      "cell_type": "markdown",
      "metadata": {
        "id": "Gc6EViA8Nsmu"
      },
      "source": [
        "Exibindo a descrição"
      ]
    },
    {
      "cell_type": "markdown",
      "metadata": {
        "id": "qUGf3A-uNsmz"
      },
      "source": [
        "Exibindo as classes alvo e seus quantitativos"
      ]
    },
    {
      "cell_type": "code",
      "execution_count": 4,
      "metadata": {
        "id": "SOSWG5HuNsm1",
        "outputId": "828013c7-4951-4eba-9a9b-100aa0845b99",
        "colab": {
          "base_uri": "https://localhost:8080/",
          "height": 447
        }
      },
      "outputs": [
        {
          "output_type": "stream",
          "name": "stdout",
          "text": [
            "Classes distintas: 10\n"
          ]
        },
        {
          "output_type": "display_data",
          "data": {
            "text/plain": [
              "<Figure size 640x480 with 1 Axes>"
            ],
            "image/png": "[encoded data removed]"
          },
          "metadata": {}
        }
      ],
      "source": [
        "import pandas as pd\n",
        "counts = pd.Series(digits['target']).value_counts().sort_values().to_frame()\n",
        "counts.plot.barh()\n",
        "print(f\"Classes distintas: {len(counts)}\")"
      ]
    },
    {
      "cell_type": "markdown",
      "metadata": {
        "id": "cewIdPOmNsm3"
      },
      "source": [
        "Exibindo o formato das features"
      ]
    },
    {
      "cell_type": "code",
      "execution_count": 5,
      "metadata": {
        "id": "WWxIqLYuNsm4",
        "outputId": "881ac7de-97a1-4900-da08-a2dcc8694e63",
        "colab": {
          "base_uri": "https://localhost:8080/"
        }
      },
      "outputs": [
        {
          "output_type": "execute_result",
          "data": {
            "text/plain": [
              "(1797, 64)"
            ]
          },
          "metadata": {},
          "execution_count": 5
        }
      ],
      "source": [
        "digits['data'].shape"
      ]
    },
    {
      "cell_type": "code",
      "execution_count": 6,
      "metadata": {
        "id": "tlK8QTUWNsm5",
        "outputId": "3dc547ee-d0b8-4d04-873c-4d2204f3d8da",
        "colab": {
          "base_uri": "https://localhost:8080/"
        }
      },
      "outputs": [
        {
          "output_type": "execute_result",
          "data": {
            "text/plain": [
              "(1797, 8, 8)"
            ]
          },
          "metadata": {},
          "execution_count": 6
        }
      ],
      "source": [
        "digits['images'].shape"
      ]
    },
    {
      "cell_type": "markdown",
      "metadata": {
        "id": "nGXhSINvNsm6"
      },
      "source": [
        "Exibindo uma amostra i"
      ]
    },
    {
      "cell_type": "code",
      "execution_count": 7,
      "metadata": {
        "id": "ST4FPohMNsm7",
        "outputId": "0ece9807-c5b2-4d30-fd29-934c51d774c0",
        "colab": {
          "base_uri": "https://localhost:8080/",
          "height": 725
        }
      },
      "outputs": [
        {
          "output_type": "stream",
          "name": "stdout",
          "text": [
            "Dado: \n",
            "[ 0.  0.  1.  9. 15. 11.  0.  0.  0.  0. 11. 16.  8. 14.  6.  0.  0.  2.\n",
            " 16. 10.  0.  9.  9.  0.  0.  1. 16.  4.  0.  8.  8.  0.  0.  4. 16.  4.\n",
            "  0.  8.  8.  0.  0.  1. 16.  5.  1. 11.  3.  0.  0.  0. 12. 12. 10. 10.\n",
            "  0.  0.  0.  0.  1. 10. 13.  3.  0.  0.]\n",
            "Pixels: \n",
            "[[ 0.  0.  1.  9. 15. 11.  0.  0.]\n",
            " [ 0.  0. 11. 16.  8. 14.  6.  0.]\n",
            " [ 0.  2. 16. 10.  0.  9.  9.  0.]\n",
            " [ 0.  1. 16.  4.  0.  8.  8.  0.]\n",
            " [ 0.  4. 16.  4.  0.  8.  8.  0.]\n",
            " [ 0.  1. 16.  5.  1. 11.  3.  0.]\n",
            " [ 0.  0. 12. 12. 10. 10.  0.  0.]\n",
            " [ 0.  0.  1. 10. 13.  3.  0.  0.]]\n",
            "Imagem:\n",
            "Rótulo \n",
            "0\n"
          ]
        },
        {
          "output_type": "display_data",
          "data": {
            "text/plain": [
              "<Figure size 640x480 with 1 Axes>"
            ],
            "image/png": "[encoded data removed]"
          },
          "metadata": {}
        }
      ],
      "source": [
        "i = 10\n",
        "\n",
        "print(f\"Dado: \\n{digits['data'][i]}\")\n",
        "print(f\"Pixels: \\n{digits['images'][i]}\")\n",
        "print(\"Imagem:\")\n",
        "exibe_digito(digits['images'][i])\n",
        "print(f\"Rótulo \\n{digits['target'][i]}\")"
      ]
    },
    {
      "cell_type": "markdown",
      "metadata": {
        "id": "3rieuv7GNsm-"
      },
      "source": [
        "Certificando-se dos valores máximo e mínimo"
      ]
    },
    {
      "cell_type": "code",
      "execution_count": 8,
      "metadata": {
        "id": "tTi0DmgMNsm_",
        "outputId": "e9661be5-824c-4f98-bf06-d7df9f0c453d",
        "colab": {
          "base_uri": "https://localhost:8080/"
        }
      },
      "outputs": [
        {
          "output_type": "stream",
          "name": "stdout",
          "text": [
            "0.0\n",
            "16.0\n"
          ]
        }
      ],
      "source": [
        "print(digits['data'].min())\n",
        "print(digits['data'].max())"
      ]
    },
    {
      "cell_type": "markdown",
      "metadata": {
        "id": "9kkp4KzuNsnA"
      },
      "source": [
        "Normalizando os pixels para maior eficiência do modelo"
      ]
    },
    {
      "cell_type": "code",
      "execution_count": 9,
      "metadata": {
        "id": "4NPF-TKlNsnB",
        "outputId": "1da62358-f9d1-4ac8-80ad-fa0ddffb3a38",
        "colab": {
          "base_uri": "https://localhost:8080/"
        }
      },
      "outputs": [
        {
          "output_type": "stream",
          "name": "stdout",
          "text": [
            "[0.     0.     0.3125 0.8125 0.5625 0.0625 0.     0.     0.     0.\n",
            " 0.8125 0.9375 0.625  0.9375 0.3125 0.     0.     0.1875 0.9375 0.125\n",
            " 0.     0.6875 0.5    0.     0.     0.25   0.75   0.     0.     0.5\n",
            " 0.5    0.     0.     0.3125 0.5    0.     0.     0.5625 0.5    0.\n",
            " 0.     0.25   0.6875 0.     0.0625 0.75   0.4375 0.     0.     0.125\n",
            " 0.875  0.3125 0.625  0.75   0.     0.     0.     0.     0.375  0.8125\n",
            " 0.625  0.     0.     0.    ]\n",
            "0.0\n",
            "1.0\n"
          ]
        }
      ],
      "source": [
        "X = digits['data']/16\n",
        "y = digits['target']\n",
        "print(X[0])\n",
        "print(X.min())\n",
        "print(X.max())"
      ]
    },
    {
      "cell_type": "markdown",
      "metadata": {
        "id": "ETuV-EjrNsnE"
      },
      "source": [
        "Aplicando PCA (Principal Component Analyses) usando 8 componentes"
      ]
    },
    {
      "cell_type": "code",
      "execution_count": 10,
      "metadata": {
        "id": "EYfRn6bdNsnF"
      },
      "outputs": [],
      "source": [
        "SEED = 42"
      ]
    },
    {
      "cell_type": "code",
      "execution_count": 11,
      "metadata": {
        "id": "VioeKdEpNsnG"
      },
      "outputs": [],
      "source": [
        "from sklearn.decomposition import PCA\n",
        "\n",
        "pca = PCA(n_components=8, random_state=SEED)\n",
        "X_reduzido = pca.fit_transform(X)"
      ]
    },
    {
      "cell_type": "markdown",
      "metadata": {
        "id": "SzsV1io-NsnI"
      },
      "source": [
        "Aplicando K-Means sem reduzir e reduzindo a dimensionalidade"
      ]
    },
    {
      "cell_type": "code",
      "execution_count": 12,
      "metadata": {
        "id": "CWzssL40NsnJ"
      },
      "outputs": [],
      "source": [
        "from sklearn.cluster import KMeans\n",
        "from sklearn.base import clone"
      ]
    },
    {
      "cell_type": "code",
      "execution_count": 13,
      "metadata": {
        "id": "HEHK012qNsnJ",
        "colab": {
          "base_uri": "https://localhost:8080/"
        },
        "outputId": "588cea11-4d15-4cb8-be8a-7102ab0a645e"
      },
      "outputs": [
        {
          "output_type": "stream",
          "name": "stderr",
          "text": [
            "/usr/local/lib/python3.10/dist-packages/sklearn/cluster/_kmeans.py:870: FutureWarning: The default value of `n_init` will change from 10 to 'auto' in 1.4. Set the value of `n_init` explicitly to suppress the warning\n",
            "  warnings.warn(\n",
            "/usr/local/lib/python3.10/dist-packages/sklearn/cluster/_kmeans.py:870: FutureWarning: The default value of `n_init` will change from 10 to 'auto' in 1.4. Set the value of `n_init` explicitly to suppress the warning\n",
            "  warnings.warn(\n"
          ]
        }
      ],
      "source": [
        "model = KMeans(n_clusters=10, random_state=SEED)\n",
        "\n",
        "preds = model.fit_predict(X)\n",
        "model_pca = clone(model)\n",
        "preds_pca = model_pca.fit_predict(X_reduzido)"
      ]
    },
    {
      "cell_type": "markdown",
      "metadata": {
        "id": "-_8Xj_sGNsnK"
      },
      "source": [
        "### Avaliando os resultados de clusterização"
      ]
    },
    {
      "cell_type": "markdown",
      "metadata": {
        "id": "5-1s85I0NsnL"
      },
      "source": [
        "Utilizando a métrica ARI (Adjusted Rand Index)\n",
        "\n",
        "$A R I=\\frac{\\sum_{i j}\\left(\\begin{array}{c}n_{i j} \\\\ 2\\end{array}\\right)-\\left[\\sum_{i}\\left(\\begin{array}{c}a_{i} \\\\ 2\\end{array}\\right) \\sum_{j}\\left(\\begin{array}{c}b_{j} \\\\ 2\\end{array}\\right)\\right] /\\left(\\begin{array}{c}n \\\\ 2\\end{array}\\right)}{\\frac{1}{2}\\left[\\sum_{i}\\left(\\begin{array}{c}a_{i} \\\\ 2\\end{array}\\right)+\\sum_{j}\\left(\\begin{array}{c}b_{j} \\\\ 2\\end{array}\\right)\\right]-\\left[\\sum_{i}\\left(\\begin{array}{c}a_{i} \\\\ 2\\end{array}\\right) \\sum_{j}\\left(\\begin{array}{c}b_{j} \\\\ 2\\end{array}\\right)\\right] /\\left(\\begin{array}{c}n \\\\ 2\\end{array}\\right)}$"
      ]
    },
    {
      "cell_type": "code",
      "execution_count": 14,
      "metadata": {
        "id": "q8yfgPeoNsnM",
        "outputId": "985aadac-b2e2-4e2c-80bb-99881c4da3e4",
        "colab": {
          "base_uri": "https://localhost:8080/"
        }
      },
      "outputs": [
        {
          "output_type": "stream",
          "name": "stdout",
          "text": [
            "X Original\n",
            "0.7388667853111742\n",
            "0.738866785311174\n",
            "X Reduzido\n",
            "0.7017871779815249\n"
          ]
        }
      ],
      "source": [
        "from sklearn.metrics.cluster import adjusted_mutual_info_score\n",
        "print(\"X Original\")\n",
        "print(adjusted_mutual_info_score(y, preds))\n",
        "print(adjusted_mutual_info_score(preds, y))\n",
        "print(\"X Reduzido\")\n",
        "print(adjusted_mutual_info_score(y, preds_pca))"
      ]
    },
    {
      "cell_type": "markdown",
      "metadata": {
        "id": "FwA-2sFMNsnN"
      },
      "source": [
        "Como ARI é uma medidade simétrica, o resultado é o mesmo independente da ordem dos parâmetros.\n",
        "\n",
        "Quanto mais essa métrica estiver próxima de 1, mais similares são os clusters."
      ]
    },
    {
      "cell_type": "markdown",
      "metadata": {
        "id": "m32p3XKTNsnO"
      },
      "source": [
        "Utilizando a métrica NMI (Informação Mútua Normalizada)\n",
        "\n",
        "$NMI(y, \\hat{y})=\\frac{2 \\times I(y ; \\hat{y})}{[H(y)+H(\\hat{y})]}$"
      ]
    },
    {
      "cell_type": "code",
      "execution_count": 15,
      "metadata": {
        "id": "aXUM2ex4NsnO",
        "outputId": "f6985d50-cefb-470e-9e26-5bbb798e436b",
        "colab": {
          "base_uri": "https://localhost:8080/"
        }
      },
      "outputs": [
        {
          "output_type": "stream",
          "name": "stdout",
          "text": [
            "X Original\n",
            "0.7414681265635253\n",
            "X Reduzido\n",
            "0.704763472731993\n"
          ]
        }
      ],
      "source": [
        "from sklearn.metrics import normalized_mutual_info_score\n",
        "print(\"X Original\")\n",
        "print(normalized_mutual_info_score(y, preds))\n",
        "print(\"X Reduzido\")\n",
        "print(normalized_mutual_info_score(y, preds_pca))"
      ]
    },
    {
      "cell_type": "markdown",
      "metadata": {
        "id": "vQ1J4TsVNsnP"
      },
      "source": [
        "As mesmas obsevações do ARI são válidas para o NMI."
      ]
    },
    {
      "cell_type": "markdown",
      "metadata": {
        "id": "6cGVwganNsnQ"
      },
      "source": [
        "Utilizando a Métrica Pureza\n",
        "\n",
        "$P=\\frac{1}{n} \\sum_{i}^{k} \\max _{j} \\sum_{j} 1\\left\\{\\hat{y}_{i}=y_{j}\\right\\}$\n",
        "\n",
        "onde N = número de objetos(dados), k = número de clusters, $\\hat{y}_{i}$ é um cluster e $y_{j}$ é uma classificação que tem a maior contagem para o cluster $\\hat{y}_{i}$"
      ]
    },
    {
      "cell_type": "code",
      "execution_count": 16,
      "metadata": {
        "id": "Kig0YACGNsnR",
        "outputId": "6d99bae0-dfda-4e05-ec5d-69533879ea74",
        "colab": {
          "base_uri": "https://localhost:8080/",
          "height": 491
        }
      },
      "outputs": [
        {
          "output_type": "display_data",
          "data": {
            "text/plain": [
              "<Figure size 2000x500 with 4 Axes>"
            ],
            "image/png": "[encoded data removed]"
          },
          "metadata": {}
        }
      ],
      "source": [
        "from sklearn.metrics import confusion_matrix\n",
        "import seaborn as sn\n",
        "\n",
        "cm = confusion_matrix(y, preds)\n",
        "cm_pca = confusion_matrix(y, preds_pca)\n",
        "fig, ax = plt.subplots(1,2, figsize = (20,5))\n",
        "sn.set(font_scale=1.4)\n",
        "sn.heatmap(cm, ax=ax[0], annot=True, annot_kws={\"size\": 16}, cmap='RdPu', fmt='g')\n",
        "ax[0].set(title=\"Matriz de confusão\", xlabel=\"Cluster\", ylabel = \"Rótulo\")\n",
        "sn.heatmap(cm_pca, ax=ax[1], annot=True, annot_kws={\"size\": 16}, cmap='RdPu', fmt='g')\n",
        "ax[1].set(title=\"Matriz de confusão (PCA)\", xlabel=\"Cluster\", ylabel = \"Rótulo\")\n",
        "plt.show()\n"
      ]
    },
    {
      "cell_type": "markdown",
      "metadata": {
        "id": "JS6JxksONsnS"
      },
      "source": [
        "Obtendo as maiores contagens por cluster"
      ]
    },
    {
      "cell_type": "code",
      "execution_count": 17,
      "metadata": {
        "id": "1kdPFmePNsnU",
        "outputId": "d2d06fcb-0b83-4ed3-b449-04969f8f98f9",
        "colab": {
          "base_uri": "https://localhost:8080/"
        }
      },
      "outputs": [
        {
          "output_type": "stream",
          "name": "stdout",
          "text": [
            "X Original\n",
            "[177 139 148  54 177 100 166 136 167 156]\n",
            "X Reduzido\n",
            "[100  69 167 176 154 107 175 156 164  54]\n"
          ]
        }
      ],
      "source": [
        "max_counts = cm.max(axis=0)\n",
        "max_counts_pca = cm_pca.max(axis=0)\n",
        "print(\"X Original\")\n",
        "print(max_counts)\n",
        "print(\"X Reduzido\")\n",
        "print(max_counts_pca)"
      ]
    },
    {
      "cell_type": "markdown",
      "metadata": {
        "id": "Ejn8jIwONsnW"
      },
      "source": [
        "Somando as contagens e dividindo pelo número de objetos (dados) $n$"
      ]
    },
    {
      "cell_type": "code",
      "execution_count": 18,
      "metadata": {
        "id": "wwjXtKJZNsnW",
        "outputId": "aeb263ac-89d5-419c-b4e3-565bc4df083f",
        "colab": {
          "base_uri": "https://localhost:8080/"
        }
      },
      "outputs": [
        {
          "output_type": "stream",
          "name": "stdout",
          "text": [
            "X Original\n",
            "0.7902058987200891\n",
            "X Reduzido\n",
            "0.7356705620478575\n"
          ]
        }
      ],
      "source": [
        "print(\"X Original\")\n",
        "print(max_counts.sum()/len(X))\n",
        "print(\"X Reduzido\")\n",
        "print(max_counts_pca.sum()/len(X))"
      ]
    },
    {
      "cell_type": "markdown",
      "metadata": {
        "id": "Pca9lxf5NsnX"
      },
      "source": [
        "### Conclusão"
      ]
    },
    {
      "cell_type": "markdown",
      "metadata": {
        "id": "6ATox4R6NsnY"
      },
      "source": [
        "Nenhuma das 3 métricas foi melhor ao reduzir a dimensionalidade para esse dataset. Portanto, o K-means tem melhor desempenho com o dataset original."
      ]
    },
    {
      "cell_type": "markdown",
      "metadata": {
        "id": "adY1ZWgDcnIZ"
      },
      "source": [
        "# Parte 2"
      ]
    },
    {
      "cell_type": "markdown",
      "metadata": {
        "id": "w7nx5rTPTClR"
      },
      "source": [
        "**Testar CUDA**"
      ]
    },
    {
      "cell_type": "code",
      "execution_count": 19,
      "metadata": {
        "colab": {
          "base_uri": "https://localhost:8080/"
        },
        "id": "_M9ho_SjKNat",
        "outputId": "29b02408-edf3-4e89-8cb3-503b9a661ec4"
      },
      "outputs": [
        {
          "output_type": "stream",
          "name": "stdout",
          "text": [
            "CUDA disponível. Processamento em GPU!\n"
          ]
        }
      ],
      "source": [
        "import torch\n",
        "import numpy as np\n",
        "import torch.backends.cudnn as cudnn\n",
        "\n",
        "usar_gpu = torch.cuda.is_available()\n",
        "if usar_gpu:\n",
        "  print(\"CUDA disponível. Processamento em GPU!\")\n",
        "else:\n",
        "  print(\"CUDA NÃO disponível. Processamento em CPU!\")"
      ]
    },
    {
      "cell_type": "markdown",
      "metadata": {
        "id": "Bx64mbsTpc4d"
      },
      "source": [
        "**Carregando e Divisão de Dados**"
      ]
    },
    {
      "cell_type": "code",
      "execution_count": 20,
      "metadata": {
        "id": "HxCyVPOqj6kK",
        "colab": {
          "base_uri": "https://localhost:8080/"
        },
        "outputId": "79a4ac0a-bcd2-4cf7-99ab-09b47326228e"
      },
      "outputs": [
        {
          "output_type": "stream",
          "name": "stdout",
          "text": [
            "Downloading http://yann.lecun.com/exdb/mnist/train-images-idx3-ubyte.gz\n",
            "Failed to download (trying next):\n",
            "HTTP Error 403: Forbidden\n",
            "\n",
            "Downloading https://ossci-datasets.s3.amazonaws.com/mnist/train-images-idx3-ubyte.gz\n",
            "Downloading https://ossci-datasets.s3.amazonaws.com/mnist/train-images-idx3-ubyte.gz to datasets/MNIST/raw/train-images-idx3-ubyte.gz\n"
          ]
        },
        {
          "output_type": "stream",
          "name": "stderr",
          "text": [
            "100%|██████████| 9912422/9912422 [00:00<00:00, 15884130.64it/s]\n"
          ]
        },
        {
          "output_type": "stream",
          "name": "stdout",
          "text": [
            "Extracting datasets/MNIST/raw/train-images-idx3-ubyte.gz to datasets/MNIST/raw\n",
            "\n",
            "Downloading http://yann.lecun.com/exdb/mnist/train-labels-idx1-ubyte.gz\n",
            "Failed to download (trying next):\n",
            "HTTP Error 403: Forbidden\n",
            "\n",
            "Downloading https://ossci-datasets.s3.amazonaws.com/mnist/train-labels-idx1-ubyte.gz\n",
            "Downloading https://ossci-datasets.s3.amazonaws.com/mnist/train-labels-idx1-ubyte.gz to datasets/MNIST/raw/train-labels-idx1-ubyte.gz\n"
          ]
        },
        {
          "output_type": "stream",
          "name": "stderr",
          "text": [
            "100%|██████████| 28881/28881 [00:00<00:00, 588371.52it/s]\n"
          ]
        },
        {
          "output_type": "stream",
          "name": "stdout",
          "text": [
            "Extracting datasets/MNIST/raw/train-labels-idx1-ubyte.gz to datasets/MNIST/raw\n",
            "\n",
            "Downloading http://yann.lecun.com/exdb/mnist/t10k-images-idx3-ubyte.gz\n",
            "Failed to download (trying next):\n",
            "HTTP Error 403: Forbidden\n",
            "\n",
            "Downloading https://ossci-datasets.s3.amazonaws.com/mnist/t10k-images-idx3-ubyte.gz\n",
            "Downloading https://ossci-datasets.s3.amazonaws.com/mnist/t10k-images-idx3-ubyte.gz to datasets/MNIST/raw/t10k-images-idx3-ubyte.gz\n"
          ]
        },
        {
          "output_type": "stream",
          "name": "stderr",
          "text": [
            "100%|██████████| 1648877/1648877 [00:01<00:00, 1101614.97it/s]\n"
          ]
        },
        {
          "output_type": "stream",
          "name": "stdout",
          "text": [
            "Extracting datasets/MNIST/raw/t10k-images-idx3-ubyte.gz to datasets/MNIST/raw\n",
            "\n",
            "Downloading http://yann.lecun.com/exdb/mnist/t10k-labels-idx1-ubyte.gz\n",
            "Failed to download (trying next):\n",
            "HTTP Error 403: Forbidden\n",
            "\n",
            "Downloading https://ossci-datasets.s3.amazonaws.com/mnist/t10k-labels-idx1-ubyte.gz\n",
            "Downloading https://ossci-datasets.s3.amazonaws.com/mnist/t10k-labels-idx1-ubyte.gz to datasets/MNIST/raw/t10k-labels-idx1-ubyte.gz\n"
          ]
        },
        {
          "output_type": "stream",
          "name": "stderr",
          "text": [
            "100%|██████████| 4542/4542 [00:00<00:00, 10708560.30it/s]\n"
          ]
        },
        {
          "output_type": "stream",
          "name": "stdout",
          "text": [
            "Extracting datasets/MNIST/raw/t10k-labels-idx1-ubyte.gz to datasets/MNIST/raw\n",
            "\n"
          ]
        }
      ],
      "source": [
        "import torchvision.datasets as datasets\n",
        "import torchvision.transforms as transforms\n",
        "from torch.utils.data.dataloader import DataLoader\n",
        "\n",
        "batch_size = 128\n",
        "\n",
        "# Converte os dados para um FloatTensor\n",
        "transform = transforms.ToTensor()\n",
        "\n",
        "# Escolhe os dados de treino e teste\n",
        "train_data = datasets.MNIST(root=\"datasets\", train=True,\n",
        "                            download=True, transform=transform)\n",
        "test_data = datasets.MNIST(root=\"datasets\", train=False,\n",
        "                            download=True, transform=transform)\n",
        "\n",
        "# Define o carregamento dos dados utilizado os dados escolhidos\n",
        "\n",
        "train_loader = DataLoader(train_data, batch_size=batch_size, shuffle=True)\n",
        "test_loader = DataLoader(test_data, batch_size=batch_size)\n"
      ]
    },
    {
      "cell_type": "code",
      "execution_count": 21,
      "metadata": {
        "id": "AcVlJ0XCNsnd",
        "outputId": "a3c9a967-d23e-467a-84b4-ba17b8efcff3",
        "colab": {
          "base_uri": "https://localhost:8080/"
        }
      },
      "outputs": [
        {
          "output_type": "execute_result",
          "data": {
            "text/plain": [
              "Dataset MNIST\n",
              "    Number of datapoints: 60000\n",
              "    Root location: datasets\n",
              "    Split: Train\n",
              "    StandardTransform\n",
              "Transform: ToTensor()"
            ]
          },
          "metadata": {},
          "execution_count": 21
        }
      ],
      "source": [
        "train_data"
      ]
    },
    {
      "cell_type": "code",
      "execution_count": 22,
      "metadata": {
        "id": "F1c7k7m2Nsnf",
        "outputId": "72368231-6930-46a6-fde7-bc890e0fd34e",
        "colab": {
          "base_uri": "https://localhost:8080/"
        }
      },
      "outputs": [
        {
          "output_type": "execute_result",
          "data": {
            "text/plain": [
              "Dataset MNIST\n",
              "    Number of datapoints: 10000\n",
              "    Root location: datasets\n",
              "    Split: Test\n",
              "    StandardTransform\n",
              "Transform: ToTensor()"
            ]
          },
          "metadata": {},
          "execution_count": 22
        }
      ],
      "source": [
        "test_data"
      ]
    },
    {
      "cell_type": "code",
      "execution_count": 23,
      "metadata": {
        "id": "tLFVQvzlNsng",
        "outputId": "41e21a14-82b1-4b0e-fb49-bb907d373d22",
        "colab": {
          "base_uri": "https://localhost:8080/",
          "height": 204
        }
      },
      "outputs": [
        {
          "output_type": "execute_result",
          "data": {
            "text/plain": [
              "torchvision.datasets.mnist.MNIST"
            ],
            "text/html": [
              "<div style=\"max-width:800px; border: 1px solid var(--colab-border-color);\"><style>\n",
              "      pre.function-repr-contents {\n",
              "        overflow-x: auto;\n",
              "        padding: 8px 12px;\n",
              "        max-height: 500px;\n",
              "      }\n",
              "\n",
              "      pre.function-repr-contents.function-repr-contents-collapsed {\n",
              "        cursor: pointer;\n",
              "        max-height: 100px;\n",
              "      }\n",
              "    </style>\n",
              "    <pre style=\"white-space: initial; background:\n",
              "         var(--colab-secondary-surface-color); padding: 8px 12px;\n",
              "         border-bottom: 1px solid var(--colab-border-color);\"><b>torchvision.datasets.mnist.MNIST</b><br/>def __init__(root: str, train: bool=True, transform: Optional[Callable]=None, target_transform: Optional[Callable]=None, download: bool=False) -&gt; None</pre><pre class=\"function-repr-contents function-repr-contents-collapsed\" style=\"\"><a class=\"filepath\" style=\"display:none\" href=\"#\">/usr/local/lib/python3.10/dist-packages/torchvision/datasets/mnist.py</a>`MNIST &lt;http://yann.lecun.com/exdb/mnist/&gt;`_ Dataset.\n",
              "\n",
              "Args:\n",
              "    root (string): Root directory of dataset where ``MNIST/raw/train-images-idx3-ubyte``\n",
              "        and  ``MNIST/raw/t10k-images-idx3-ubyte`` exist.\n",
              "    train (bool, optional): If True, creates dataset from ``train-images-idx3-ubyte``,\n",
              "        otherwise from ``t10k-images-idx3-ubyte``.\n",
              "    download (bool, optional): If True, downloads the dataset from the internet and\n",
              "        puts it in root directory. If dataset is already downloaded, it is not\n",
              "        downloaded again.\n",
              "    transform (callable, optional): A function/transform that  takes in an PIL image\n",
              "        and returns a transformed version. E.g, ``transforms.RandomCrop``\n",
              "    target_transform (callable, optional): A function/transform that takes in the\n",
              "        target and transforms it.</pre>\n",
              "      <script>\n",
              "      if (google.colab.kernel.accessAllowed && google.colab.files && google.colab.files.view) {\n",
              "        for (const element of document.querySelectorAll('.filepath')) {\n",
              "          element.style.display = 'block'\n",
              "          element.onclick = (event) => {\n",
              "            event.preventDefault();\n",
              "            event.stopPropagation();\n",
              "            google.colab.files.view(element.textContent, 19);\n",
              "          };\n",
              "        }\n",
              "      }\n",
              "      for (const element of document.querySelectorAll('.function-repr-contents')) {\n",
              "        element.onclick = (event) => {\n",
              "          event.preventDefault();\n",
              "          event.stopPropagation();\n",
              "          element.classList.toggle('function-repr-contents-collapsed');\n",
              "        };\n",
              "      }\n",
              "      </script>\n",
              "      </div>"
            ]
          },
          "metadata": {},
          "execution_count": 23
        }
      ],
      "source": [
        "type(train_data)"
      ]
    },
    {
      "cell_type": "code",
      "execution_count": 24,
      "metadata": {
        "id": "2Gk5dB_ONsnh",
        "outputId": "99d04b74-e65c-471e-8cb2-cd29026e494f",
        "colab": {
          "base_uri": "https://localhost:8080/"
        }
      },
      "outputs": [
        {
          "output_type": "execute_result",
          "data": {
            "text/plain": [
              "['0 - zero',\n",
              " '1 - one',\n",
              " '2 - two',\n",
              " '3 - three',\n",
              " '4 - four',\n",
              " '5 - five',\n",
              " '6 - six',\n",
              " '7 - seven',\n",
              " '8 - eight',\n",
              " '9 - nine']"
            ]
          },
          "metadata": {},
          "execution_count": 24
        }
      ],
      "source": [
        "test_data.classes"
      ]
    },
    {
      "cell_type": "markdown",
      "metadata": {
        "id": "9SUzy8esNsni"
      },
      "source": [
        "Exbindo algumas amostras do datset de treino"
      ]
    },
    {
      "cell_type": "code",
      "execution_count": 25,
      "metadata": {
        "id": "DUnE0S1mNsnj",
        "outputId": "1c319b59-cfb5-4601-895e-a45561b97603",
        "colab": {
          "base_uri": "https://localhost:8080/",
          "height": 679
        }
      },
      "outputs": [
        {
          "output_type": "display_data",
          "data": {
            "text/plain": [
              "<Figure size 800x800 with 9 Axes>"
            ],
            "image/png": "[encoded data removed]"
          },
          "metadata": {}
        }
      ],
      "source": [
        "figure = plt.figure(figsize=(8, 8))\n",
        "cols, rows = 3, 3\n",
        "for i in range(1, cols * rows + 1):\n",
        "    sample_idx = torch.randint(len(train_data), size=(1,)).item()\n",
        "    img, label = train_data[sample_idx]\n",
        "    figure.add_subplot(rows, cols, i)\n",
        "    plt.title(label)\n",
        "    plt.axis(\"off\")\n",
        "    plt.imshow(img.squeeze(), cmap=\"gray_r\")\n",
        "plt.show()"
      ]
    },
    {
      "cell_type": "markdown",
      "metadata": {
        "id": "aQHWjjtmNsnk"
      },
      "source": [
        "Descobrindo o formato de cada imagem"
      ]
    },
    {
      "cell_type": "code",
      "execution_count": 26,
      "metadata": {
        "id": "5NdG3_VFNsnl",
        "outputId": "0c276289-2e99-4275-ddad-5a2569c64f84",
        "colab": {
          "base_uri": "https://localhost:8080/",
          "height": 458
        }
      },
      "outputs": [
        {
          "output_type": "stream",
          "name": "stdout",
          "text": [
            "Feature batch shape: torch.Size([128, 1, 28, 28])\n",
            "Labels batch shape: torch.Size([128])\n"
          ]
        },
        {
          "output_type": "display_data",
          "data": {
            "text/plain": [
              "<Figure size 640x480 with 1 Axes>"
            ],
            "image/png": "[encoded data removed]"
          },
          "metadata": {}
        },
        {
          "output_type": "stream",
          "name": "stdout",
          "text": [
            "Label: 6\n"
          ]
        }
      ],
      "source": [
        "train_features, train_labels = next(iter(train_loader))\n",
        "print(f\"Feature batch shape: {train_features.size()}\")\n",
        "print(f\"Labels batch shape: {train_labels.size()}\")\n",
        "img = train_features[0].squeeze()\n",
        "label = train_labels[0]\n",
        "plt.axis('off')\n",
        "plt.imshow(img, cmap=\"gray_r\")\n",
        "plt.show()\n",
        "print(f\"Label: {label}\")"
      ]
    },
    {
      "cell_type": "markdown",
      "metadata": {
        "id": "HQI6mJl2Nsnm"
      },
      "source": [
        "Como o tamanho do batch = 32 (quantidade de amostras por cada passo nas épocas) = o tamanho da primeira dimensão, temos 1 única camada (imagem na escala de cinza e 28x28 pixels)"
      ]
    },
    {
      "cell_type": "markdown",
      "metadata": {
        "id": "CmJh0VgtNsno"
      },
      "source": [
        "Exibindo as classes alvo e seus quantitativos"
      ]
    },
    {
      "cell_type": "code",
      "execution_count": 27,
      "metadata": {
        "id": "CZNIgtO5Nsno",
        "outputId": "7a9fc4c5-0dec-4b3d-d5cb-88bb4052acf3",
        "colab": {
          "base_uri": "https://localhost:8080/",
          "height": 456
        }
      },
      "outputs": [
        {
          "output_type": "stream",
          "name": "stdout",
          "text": [
            "Classes distintas: 10\n"
          ]
        },
        {
          "output_type": "display_data",
          "data": {
            "text/plain": [
              "<Figure size 640x480 with 1 Axes>"
            ],
            "image/png": "[encoded data removed]"
          },
          "metadata": {}
        }
      ],
      "source": [
        "import pandas as pd\n",
        "counts = pd.Series(test_data.targets).value_counts().sort_values().to_frame()\n",
        "counts.plot.barh()\n",
        "print(f\"Classes distintas: {len(counts)}\")"
      ]
    },
    {
      "cell_type": "markdown",
      "metadata": {
        "id": "9Fa9d8WpDXki"
      },
      "source": [
        "\n",
        "Agora...\n",
        "*  Defina e treine um AutoEncoder Convolucional."
      ]
    },
    {
      "cell_type": "markdown",
      "metadata": {
        "id": "nSO1IbttaDmn"
      },
      "source": [
        "Definição do Modelo"
      ]
    },
    {
      "cell_type": "code",
      "execution_count": 28,
      "metadata": {
        "id": "i9_hfVX5Nsnr"
      },
      "outputs": [],
      "source": [
        "from torch.nn import Module, Sequential, Conv2d, ReLU, MaxPool2d, MSELoss, Sigmoid, ConvTranspose2d"
      ]
    },
    {
      "cell_type": "code",
      "execution_count": 29,
      "metadata": {
        "id": "68Qj3W4AZlNX"
      },
      "outputs": [],
      "source": [
        "class ConvAutoencoder(Module):\n",
        "  def __init__(self):\n",
        "    super(ConvAutoencoder, self).__init__()\n",
        "\n",
        "    # Input é no formato 1 (canal) x 28 x 28 (pixels)\n",
        "    self.conv1 = Sequential(Conv2d(in_channels=1, out_channels=16, kernel_size=3, padding=1),\n",
        "                            ReLU(True),\n",
        "                            MaxPool2d(2, 2))\n",
        "\n",
        "    self.conv2 = Sequential(Conv2d(in_channels=16, out_channels=4, kernel_size=3, padding=1),\n",
        "                            ReLU(True),\n",
        "                            MaxPool2d(2, 2))\n",
        "\n",
        "    self.conv1_transp = Sequential(ConvTranspose2d(in_channels=4, out_channels=16, kernel_size=2, stride=2),\n",
        "                                   ReLU(True))\n",
        "\n",
        "    self.conv2_transp = Sequential(ConvTranspose2d(in_channels=16, out_channels=1, kernel_size=2, stride=2),\n",
        "                                   Sigmoid())\n",
        "\n",
        "    self.encoder = Sequential(self.conv1,\n",
        "                              self.conv2)\n",
        "\n",
        "    self.decoder = Sequential(self.conv1_transp,\n",
        "                              self.conv2_transp)\n",
        "\n",
        "  def forward(self, x):\n",
        "    encoded_x = self.encoder(x)\n",
        "    decoded = self.decoder(encoded_x)\n",
        "    return decoded"
      ]
    },
    {
      "cell_type": "markdown",
      "metadata": {
        "id": "AO4yPV1xbwE6"
      },
      "source": [
        "**Alocação do modelo e device adequado (dependente da disponibilidade GPU)**"
      ]
    },
    {
      "cell_type": "code",
      "execution_count": 30,
      "metadata": {
        "id": "V6d6VaPcbwb3",
        "outputId": "c827451d-f25e-4554-bde5-6462c6a8ec35",
        "colab": {
          "base_uri": "https://localhost:8080/"
        }
      },
      "outputs": [
        {
          "output_type": "stream",
          "name": "stdout",
          "text": [
            "ConvAutoencoder(\n",
            "  (conv1): Sequential(\n",
            "    (0): Conv2d(1, 16, kernel_size=(3, 3), stride=(1, 1), padding=(1, 1))\n",
            "    (1): ReLU(inplace=True)\n",
            "    (2): MaxPool2d(kernel_size=2, stride=2, padding=0, dilation=1, ceil_mode=False)\n",
            "  )\n",
            "  (conv2): Sequential(\n",
            "    (0): Conv2d(16, 4, kernel_size=(3, 3), stride=(1, 1), padding=(1, 1))\n",
            "    (1): ReLU(inplace=True)\n",
            "    (2): MaxPool2d(kernel_size=2, stride=2, padding=0, dilation=1, ceil_mode=False)\n",
            "  )\n",
            "  (conv1_transp): Sequential(\n",
            "    (0): ConvTranspose2d(4, 16, kernel_size=(2, 2), stride=(2, 2))\n",
            "    (1): ReLU(inplace=True)\n",
            "  )\n",
            "  (conv2_transp): Sequential(\n",
            "    (0): ConvTranspose2d(16, 1, kernel_size=(2, 2), stride=(2, 2))\n",
            "    (1): Sigmoid()\n",
            "  )\n",
            "  (encoder): Sequential(\n",
            "    (0): Sequential(\n",
            "      (0): Conv2d(1, 16, kernel_size=(3, 3), stride=(1, 1), padding=(1, 1))\n",
            "      (1): ReLU(inplace=True)\n",
            "      (2): MaxPool2d(kernel_size=2, stride=2, padding=0, dilation=1, ceil_mode=False)\n",
            "    )\n",
            "    (1): Sequential(\n",
            "      (0): Conv2d(16, 4, kernel_size=(3, 3), stride=(1, 1), padding=(1, 1))\n",
            "      (1): ReLU(inplace=True)\n",
            "      (2): MaxPool2d(kernel_size=2, stride=2, padding=0, dilation=1, ceil_mode=False)\n",
            "    )\n",
            "  )\n",
            "  (decoder): Sequential(\n",
            "    (0): Sequential(\n",
            "      (0): ConvTranspose2d(4, 16, kernel_size=(2, 2), stride=(2, 2))\n",
            "      (1): ReLU(inplace=True)\n",
            "    )\n",
            "    (1): Sequential(\n",
            "      (0): ConvTranspose2d(16, 1, kernel_size=(2, 2), stride=(2, 2))\n",
            "      (1): Sigmoid()\n",
            "    )\n",
            "  )\n",
            ")\n"
          ]
        }
      ],
      "source": [
        "# cria o modelo\n",
        "model_ae = ConvAutoencoder()\n",
        "print(model_ae)\n",
        "\n",
        "# joga o modelo para GPU, caso aplicável\n",
        "if usar_gpu:\n",
        "  torch.cuda.init()\n",
        "  model_ae.cuda()\n",
        "  cudnn.benchmark = True"
      ]
    },
    {
      "cell_type": "code",
      "execution_count": 31,
      "metadata": {
        "id": "R8o_5mpwNsnt"
      },
      "outputs": [],
      "source": [
        "#!pip install torchsummary"
      ]
    },
    {
      "cell_type": "code",
      "execution_count": 32,
      "metadata": {
        "id": "OsDXrHGeNsnt"
      },
      "outputs": [],
      "source": [
        "# from torchsummary import summary\n",
        "\n",
        "# summary(conv_ae, input_size=(1, 28, 28))"
      ]
    },
    {
      "cell_type": "markdown",
      "metadata": {
        "id": "SVRhp-8bpp16"
      },
      "source": [
        "**Função de Custo e Otimizador**.\n",
        "\n",
        "Vide [`torch.optim`](https://pytorch.org/docs/stable/optim.html) e [`torch.nn` Loss Functions](https://pytorch.org/docs/stable/nn.html#loss-functions). Atentem para todos os parametros necessários."
      ]
    },
    {
      "cell_type": "code",
      "execution_count": 33,
      "metadata": {
        "id": "AmAMXsCZpqNf"
      },
      "outputs": [],
      "source": [
        "import torch.optim as optim\n",
        "\n",
        "# model_ae = ConvAutoencoder()\n",
        "\n",
        "# especifique a funcao de custo (loss) adequada\n",
        "criterion = MSELoss()\n",
        "\n",
        "# especifique o otimizador\n",
        "optim = optim.Adam(model_ae.parameters(), lr=1e-3)"
      ]
    },
    {
      "cell_type": "markdown",
      "metadata": {
        "id": "kWTbCMBTbZ8k"
      },
      "source": [
        "**Treinamento**"
      ]
    },
    {
      "cell_type": "code",
      "execution_count": 34,
      "metadata": {
        "id": "h3NuBJUHNsnv"
      },
      "outputs": [],
      "source": [
        "def train_one_epoch(epoch_index):\n",
        "    running_loss = 0.\n",
        "    last_loss = 0.\n",
        "\n",
        "    for i, (x, y) in enumerate(train_loader):\n",
        "        if usar_gpu:\n",
        "            device = torch.device(\"cuda:0\" if torch.cuda.is_available() else \"cpu\")\n",
        "            x, y = x.to(device), y.to(device)\n",
        "\n",
        "        # TODO: 1. Zere o gradiente de todas as variávels do otimizador\n",
        "        #          (vide zero_grad do nn.optim)\n",
        "        optim.zero_grad()\n",
        "\n",
        "        # TODO: 2. Faça um forward no modelo passando x como entrada\n",
        "        #          (não deixe de capturar a saída)\n",
        "        decoded = model_ae(x)\n",
        "\n",
        "        # TODO: 3. Calcule a loss do batch (utilize o criterion para comparar a\n",
        "        #          saída do modelo com os targets y)\n",
        "        loss = criterion(decoded, x)\n",
        "\n",
        "        # TODO: 4. Compute o gradiente (backward na loss)\n",
        "        loss.backward()\n",
        "\n",
        "        # TODO: 5. Realize um passo de otimização (step no optim)\n",
        "        optim.step()\n",
        "\n",
        "        # atualização da loss de treinamento\n",
        "\n",
        "        # Gather data and report\n",
        "        running_loss += loss.item()\n",
        "        if i % 1000 == 999:\n",
        "            last_loss = running_loss / 1000 # loss per batch\n",
        "            print('  batch {} loss: {}'.format(i + 1, last_loss))\n",
        "            running_loss = 0.\n",
        "\n",
        "    return last_loss"
      ]
    },
    {
      "cell_type": "code",
      "execution_count": 35,
      "metadata": {
        "id": "w38EeYgaNsnw",
        "outputId": "09bc742f-e52d-4c6b-f5fb-3b478ea14886",
        "colab": {
          "base_uri": "https://localhost:8080/"
        }
      },
      "outputs": [
        {
          "output_type": "stream",
          "name": "stdout",
          "text": [
            "EPOCH 1:\n",
            "LOSS train 0.0\n",
            "EPOCH 2:\n",
            "LOSS train 0.0\n",
            "EPOCH 3:\n",
            "LOSS train 0.0\n",
            "EPOCH 4:\n",
            "LOSS train 0.0\n",
            "EPOCH 5:\n",
            "LOSS train 0.0\n",
            "EPOCH 6:\n",
            "LOSS train 0.0\n",
            "EPOCH 7:\n",
            "LOSS train 0.0\n",
            "EPOCH 8:\n",
            "LOSS train 0.0\n",
            "EPOCH 9:\n",
            "LOSS train 0.0\n",
            "EPOCH 10:\n",
            "LOSS train 0.0\n",
            "EPOCH 11:\n",
            "LOSS train 0.0\n",
            "EPOCH 12:\n",
            "LOSS train 0.0\n",
            "EPOCH 13:\n",
            "LOSS train 0.0\n",
            "EPOCH 14:\n",
            "LOSS train 0.0\n",
            "EPOCH 15:\n",
            "LOSS train 0.0\n",
            "EPOCH 16:\n",
            "LOSS train 0.0\n",
            "EPOCH 17:\n",
            "LOSS train 0.0\n",
            "EPOCH 18:\n",
            "LOSS train 0.0\n",
            "EPOCH 19:\n",
            "LOSS train 0.0\n",
            "EPOCH 20:\n",
            "LOSS train 0.0\n",
            "EPOCH 21:\n",
            "LOSS train 0.0\n",
            "EPOCH 22:\n",
            "LOSS train 0.0\n",
            "EPOCH 23:\n",
            "LOSS train 0.0\n",
            "EPOCH 24:\n",
            "LOSS train 0.0\n",
            "EPOCH 25:\n",
            "LOSS train 0.0\n",
            "EPOCH 26:\n",
            "LOSS train 0.0\n",
            "EPOCH 27:\n",
            "LOSS train 0.0\n",
            "EPOCH 28:\n",
            "LOSS train 0.0\n",
            "EPOCH 29:\n",
            "LOSS train 0.0\n",
            "EPOCH 30:\n",
            "LOSS train 0.0\n"
          ]
        }
      ],
      "source": [
        "# Initializing in a separate cell so we can easily add more epochs to the same run\n",
        "from datetime import datetime\n",
        "timestamp = datetime.now().strftime('%Y%m%d_%H%M%S')\n",
        "# writer = SummaryWriter('runs/fashion_trainer_{}'.format(timestamp))\n",
        "epoch_number = 0\n",
        "\n",
        "EPOCHS = 30\n",
        "\n",
        "best_vloss = 1_000_000.\n",
        "\n",
        "for epoch in range(EPOCHS):\n",
        "    print('EPOCH {}:'.format(epoch_number + 1))\n",
        "    # Make sure gradient tracking is on, and do a pass over the data\n",
        "    model_ae.train(True)\n",
        "    avg_loss = train_one_epoch(epoch_number)\n",
        "    model_ae.train(False)\n",
        "    print(f'LOSS train {avg_loss}')\n",
        "    epoch_number += 1"
      ]
    },
    {
      "cell_type": "code",
      "execution_count": 36,
      "metadata": {
        "id": "Q3kpON41Nsnx"
      },
      "outputs": [],
      "source": [
        "# dataiter = iter(train_loader)\n",
        "dataiter = iter(test_loader)"
      ]
    },
    {
      "cell_type": "code",
      "execution_count": 38,
      "metadata": {
        "id": "9ExhB4-ENsnx",
        "outputId": "b5048e1a-5c1e-4188-bf7d-f2981bf32570",
        "colab": {
          "base_uri": "https://localhost:8080/",
          "height": 312
        }
      },
      "outputs": [
        {
          "output_type": "display_data",
          "data": {
            "text/plain": [
              "<Figure size 2500x400 with 20 Axes>"
            ],
            "image/png": "[encoded data removed]"
          },
          "metadata": {}
        }
      ],
      "source": [
        "# TODO: 6. plote as 10 primeiras imagens (reconstruídas e decodificadas)\n",
        "#          do último batch  (usem o matplotlib)\n",
        "# Imagens rescontruída\n",
        "\n",
        "x, y = next(dataiter)\n",
        "if usar_gpu:\n",
        "    device = torch.device(\"cuda:0\" if torch.cuda.is_available() else \"cpu\")\n",
        "    x, y = x.to(device), y.to(device)\n",
        "\n",
        "output = model_ae(x) # Obtém amostras\n",
        "\n",
        "# Plota as 10 primeiras imagens\n",
        "fig, axes = plt.subplots(nrows=2, ncols=10, sharex=True, sharey=True, figsize=(25,4))\n",
        "# imagens originais na primeira linha, reconstruídas e decodificadas na segunda linha\n",
        "for images, row in zip([x, output], axes):\n",
        "    for img, ax in zip(images, row):\n",
        "        ax.imshow(np.squeeze(img.detach().cpu()), cmap='gray_r')\n",
        "        # plt.savefig(img.cpu(), )\n",
        "        ax.get_xaxis().set_visible(False)\n",
        "        ax.get_yaxis().set_visible(False)\n",
        "plt.show()"
      ]
    }
  ],
  "metadata": {
    "colab": {
      "provenance": [],
      "gpuType": "T4"
    },
    "kernelspec": {
      "display_name": "Python 3",
      "name": "python3"
    },
    "language_info": {
      "codemirror_mode": {
        "name": "ipython",
        "version": 3
      },
      "file_extension": ".py",
      "mimetype": "text/x-python",
      "name": "python",
      "nbconvert_exporter": "python",
      "pygments_lexer": "ipython3",
      "version": "3.8.0"
    },
    "accelerator": "GPU"
  },
  "nbformat": 4,
  "nbformat_minor": 0
}